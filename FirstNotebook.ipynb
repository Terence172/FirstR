{
  "nbformat": 4,
  "nbformat_minor": 0,
  "metadata": {
    "colab": {
      "provenance": [],
      "authorship_tag": "ABX9TyOvHUkgFNBqIA27FySDPrv+",
      "include_colab_link": true
    },
    "kernelspec": {
      "name": "python3",
      "display_name": "Python 3"
    },
    "language_info": {
      "name": "python"
    }
  },
  "cells": [
    {
      "cell_type": "markdown",
      "metadata": {
        "id": "view-in-github",
        "colab_type": "text"
      },
      "source": [
        "<a href=\"https://colab.research.google.com/github/Terence172/FirstR/blob/main/FirstNotebook.ipynb\" target=\"_parent\"><img src=\"https://colab.research.google.com/assets/colab-badge.svg\" alt=\"Open In Colab\"/></a>"
      ]
    },
    {
      "cell_type": "markdown",
      "source": [
        "## First Notebook"
      ],
      "metadata": {
        "id": "XESnS74flHvH"
      }
    },
    {
      "cell_type": "markdown",
      "source": [
        "### Section\n",
        "\n",
        "[UTM](https://www.utm.my)\n",
        "\n",
        "> Indented block\n",
        "\n",
        "```\n",
        "# This is a code\n",
        "```\n",
        "\n",
        "Listing\n",
        "1. Hello\n",
        "2. World\n",
        "---\n",
        "Emojis\n",
        "*   ✈\n",
        "*   🏧🏧\n",
        "---"
      ],
      "metadata": {
        "id": "C-UKOnWtmJDR"
      }
    },
    {
      "cell_type": "code",
      "source": [],
      "metadata": {
        "id": "Zbiix-tjmOXp"
      },
      "execution_count": null,
      "outputs": []
    }
  ]
}